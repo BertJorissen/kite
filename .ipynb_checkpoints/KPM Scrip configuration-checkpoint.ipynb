{
 "cells": [
  {
   "cell_type": "code",
   "execution_count": 1,
   "metadata": {
    "collapsed": true
   },
   "outputs": [],
   "source": [
    "import numpy as np\n",
    "import matplotlib.pyplot as plt\n",
    "import sys\n",
    "import copy\n",
    "import h5py\n",
    "%matplotlib inline\n"
   ]
  },
  {
   "cell_type": "markdown",
   "metadata": {},
   "source": [
    "# Basic Elements"
   ]
  },
  {
   "cell_type": "code",
   "execution_count": 2,
   "metadata": {
    "collapsed": false
   },
   "outputs": [],
   "source": [
    "class KPMCoordinate:\n",
    "    \"\"\"\n",
    "    List of Attributes: \n",
    "    _orb: integer index of an internal degree of freedom\n",
    "    _vec: integer vector of the lattice dimension with coordinates {-1,0,1} \n",
    "          to mimic the relative distance in each dimension\n",
    "    _nr: integer number : 0 ... 3**latt_dimension indexing the lattice coordinates\n",
    "    \"\"\"\n",
    "    def __init__(self, orb, vec):\n",
    "        self._orb = orb\n",
    "        self._vec = np.array(vec).flatten()\n",
    "        self._nr  =  np.dot(self._vec + 1,3 ** np.linspace(0,self._vec.size - 1, self._vec.size,dtype=int)) \n",
    "\n",
    "class KPMAtom:\n",
    "    def __init__(self, r, energies):\n",
    "        self._r = np.array(r).flatten()\n",
    "        self._en = np.array([energies]).flatten()\n",
    "        self.norb = self._en.size\n",
    "        \n",
    "class KPMHopping:\n",
    "    def __init__(self,t, bra, ket):\n",
    "        self._t = t\n",
    "        self._bra = bra\n",
    "        self._ket = ket\n",
    "        \n",
    "        \n"
   ]
  },
  {
   "cell_type": "markdown",
   "metadata": {},
   "source": [
    "# Regular Lattice"
   ]
  },
  {
   "cell_type": "code",
   "execution_count": 8,
   "metadata": {
    "collapsed": false
   },
   "outputs": [
    {
     "name": "stdout",
     "output_type": "stream",
     "text": [
      "[[ 1.+3.j  1.-2.j  1.-3.j]\n",
      " [ 1.-3.j  1.+2.j  1.+3.j]]\n"
     ]
    }
   ],
   "source": [
    "class regular_lattice:\n",
    "    def __init__(self, L, Boundaries, vec, htype=np.complex):\n",
    "        l = np.array([L]).flatten()\n",
    "        b = np.array([Boundaries]).flatten()\n",
    "        \n",
    "        if(l.size == b.size and b.size == len(vec) ):\n",
    "            self._l = np.array([L]).flatten()\n",
    "            self._periodicboundaries = np.array([Boundaries]).flatten()\n",
    "            self._atoms = []\n",
    "            self._hoppings = []\n",
    "            self._dim = l.size\n",
    "            self._v = vec\n",
    "        else:\n",
    "             raise SystemExit(\"L, Boundaries and vec should have the same dimension\")\n",
    "        self._NOrbitals = 0\n",
    "        self._NHoppings = np.zeros(0,dtype=int)\n",
    "        self._OrbitalEnergies = np.zeros(0)\n",
    "        self._htype=htype\n",
    "        \n",
    "    def add_atom(self, at):\n",
    "        self._atoms.append(at)\n",
    "        self._NOrbitals += at._en.size\n",
    "        self._OrbitalEnergies = np.concatenate((self._OrbitalEnergies,at._en))  \n",
    "        self._NHoppings = np.concatenate((self._NHoppings, np.zeros(at._en.size,dtype=int)))\n",
    "    \n",
    "    def add_hopping(self,t, bra, ket):\n",
    "        if np.dot(bra._vec,bra._vec) == 0:\n",
    "            self._hoppings.append(KPMHopping(t,bra,ket))\n",
    "            self._NHoppings[bra._orb] += 1\n",
    "        else:\n",
    "            if np.dot(ket._vec,ket._vec) == 0:\n",
    "                self._hoppings.append(KPMHopping(np.conjugate(t),ket,bra))\n",
    "                self._NHoppings[ket._orb] += 1\n",
    "            else:\n",
    "                raise SystemExit(\"\")\n",
    "            \n",
    "    def build_transpose(self):\n",
    "        n = len(self._hoppings)\n",
    "        for i in range(n):\n",
    "            t = self._hoppings[i]._t\n",
    "            bra = copy.deepcopy(self._hoppings[i]._bra)\n",
    "            ket = copy.deepcopy(self._hoppings[i]._ket)\n",
    "            vec = ket._vec\n",
    "            newket = KPMCoordinate(bra._orb, bra._vec - vec)\n",
    "            newbra = KPMCoordinate(ket._orb, ket._vec - vec)\n",
    "            self.add_hopping(np.conjugate(t),newbra,newket)\n",
    "            \n",
    "    def exportH(self):\n",
    "        d = np.zeros([self._NOrbitals, self._NHoppings.max()], dtype=int)\n",
    "        t = np.zeros([self._NOrbitals, self._NHoppings.max()], dtype=self._htype)\n",
    "        ih = np.zeros(self._NOrbitals, dtype=int)\n",
    "        \n",
    "        for io in range(self._NOrbitals):\n",
    "            for hop in self._hoppings:\n",
    "                if hop._bra._orb == io:\n",
    "                    d[io,ih[io]] = hop._ket._orb + hop._ket._nr * self._NOrbitals\n",
    "                    t[io,ih[io]] = hop._t \n",
    "                    ih[io] += 1\n",
    "                    \n",
    "        f = h5py.File(\"teste.h5\", \"w\")\n",
    "        grp = f.create_group(\"Hamiltonian\")\n",
    "        grp.create_dataset(\"Size\", data=self._l)\n",
    "        grp.create_dataset(\"Boundaries\", data=self._periodicboundaries)\n",
    "        grp.create_dataset(\"d\", data=d)\n",
    "        grp.create_dataset(\"NHoppings\", data=ih)\n",
    "        h = grp.create_dataset(\"Hoppings\", data=t)\n",
    "        h.attrs['ISCOMPLEX'] = 1\n",
    "        h.attrs['PRECISION'] = 1\n",
    "        grp.create_dataset(\"data1\", data=np.zeros(4,dtype=np.float16))\n",
    "        grp.create_dataset(\"data2\", data=np.zeros(4,dtype=np.float16))\n",
    "        f.close()\n",
    "\n",
    "\n",
    "    \n",
    "th = np.pi/3\n",
    "b0 = np.array([1 + np.cos(th), np.sin(th)])\n",
    "b1 = np.array([0, 2*np.sin(th)])\n",
    "\n",
    "latt = regular_lattice([16,16], [True,True],[b0,b1],htype=np.complex64)\n",
    "\n",
    "latt.add_atom(KPMAtom([0,0],0))\n",
    "latt.add_atom(KPMAtom([1,0],0))\n",
    "\n",
    "latt.add_hopping(1. + 3.j, KPMCoordinate(0,[0,0]), KPMCoordinate(1,[0,0]))\n",
    "latt.add_hopping(1.-2.j, KPMCoordinate(0,[0,0]), KPMCoordinate(1,[-1,0]))\n",
    "latt.add_hopping(1.-3.j, KPMCoordinate(0,[0,0]), KPMCoordinate(1,[-1,1]))\n",
    "latt.build_transpose()\n",
    "latt.exportH()    "
   ]
  },
  {
   "cell_type": "markdown",
   "metadata": {},
   "source": [
    "In the Graphene the lattice "
   ]
  },
  {
   "cell_type": "code",
   "execution_count": 4,
   "metadata": {
    "collapsed": false
   },
   "outputs": [
    {
     "data": {
      "image/png": "[encoded data removed]",
      "text/plain": [
       "<matplotlib.figure.Figure at 0x107a08c50>"
      ]
     },
     "metadata": {},
     "output_type": "display_data"
    }
   ],
   "source": [
    "for i in latt._hoppings:\n",
    "    r0 = latt._atoms[i._bra._orb]._r + np.dot(i._bra._vec,latt._v)\n",
    "    r1 = latt._atoms[i._ket._orb]._r + np.dot(i._ket._vec,latt._v)\n",
    "#    x , y = np.array([r0,r1]).transpose() \n",
    "#    plt.plot(x,y)\n",
    "    plt.arrow(r0[0],r0[1],r1[0]-r0[0],r1[1]-r0[1],fc=\"g\", ec=\"g\", width=0.025)\n",
    "\n",
    "for i in latt._hoppings:\n",
    "    r0 = latt._atoms[i._bra._orb]._r + np.dot(i._bra._vec,latt._v) + np.dot(np.array([1,0]),latt._v) \n",
    "    r1 = latt._atoms[i._ket._orb]._r + np.dot(i._ket._vec,latt._v) + np.dot(np.array([1,0]),latt._v)\n",
    "#    x , y = np.array([r0,r1]).transpose() \n",
    "#    plt.plot(x,y)\n",
    "    plt.arrow(r0[0],r0[1],r1[0]-r0[0],r1[1]-r0[1],fc=\"r\", ec=\"r\",  width=0.025)\n",
    "    \n",
    "plt.xlim(-1., 4.)\n",
    "plt.ylim(-1., 4.)\n",
    "plt.gca().set_aspect('equal', adjustable='box')\n",
    "plt.draw()\n"
   ]
  },
  {
   "cell_type": "code",
   "execution_count": 7,
   "metadata": {
    "collapsed": false
   },
   "outputs": [
    {
     "ename": "AttributeError",
     "evalue": "'regular_lattice' object has no attribute '_t'",
     "output_type": "error",
     "traceback": [
      "\u001b[0;31m---------------------------------------------------------------------------\u001b[0m",
      "\u001b[0;31mAttributeError\u001b[0m                            Traceback (most recent call last)",
      "\u001b[0;32m<ipython-input-7-cfc556ca25af>\u001b[0m in \u001b[0;36m<module>\u001b[0;34m()\u001b[0m\n\u001b[0;32m----> 1\u001b[0;31m \u001b[0mlatt\u001b[0m\u001b[0;34m.\u001b[0m\u001b[0m_t\u001b[0m\u001b[0;34m\u001b[0m\u001b[0m\n\u001b[0m",
      "\u001b[0;31mAttributeError\u001b[0m: 'regular_lattice' object has no attribute '_t'"
     ]
    }
   ],
   "source": [
    "latt._t"
   ]
  },
  {
   "cell_type": "code",
   "execution_count": null,
   "metadata": {
    "collapsed": true
   },
   "outputs": [],
   "source": []
  }
 ],
 "metadata": {
  "kernelspec": {
   "display_name": "Python 3",
   "language": "python",
   "name": "python3"
  },
  "language_info": {
   "codemirror_mode": {
    "name": "ipython",
    "version": 3
   },
   "file_extension": ".py",
   "mimetype": "text/x-python",
   "name": "python",
   "nbconvert_exporter": "python",
   "pygments_lexer": "ipython3",
   "version": "3.5.3"
  }
 },
 "nbformat": 4,
 "nbformat_minor": 2
}
