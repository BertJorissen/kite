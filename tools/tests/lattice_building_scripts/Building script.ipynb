{
 "cells": [
  {
   "cell_type": "markdown",
   "metadata": {
    "deletable": true,
    "editable": true
   },
   "source": [
    "# Building and exporting the lattice"
   ]
  },
  {
   "cell_type": "markdown",
   "metadata": {
    "deletable": true,
    "editable": true
   },
   "source": [
    "The package used for building the lattice, and the plotting, pybinding, can be found on the website:\n",
    "http://docs.pybinding.site/en/stable/ \n",
    "with the installation guide and many building examples provided. Other examples of lattices can be found in define_lattice.py"
   ]
  },
  {
   "cell_type": "code",
   "execution_count": null,
   "metadata": {
    "collapsed": true,
    "deletable": true,
    "editable": true
   },
   "outputs": [],
   "source": [
    "# Include files\n",
    "import matplotlib.pyplot as plt\n",
    "import export_lattice as ex\n",
    "import numpy as np\n",
    "import pybinding as pb"
   ]
  },
  {
   "cell_type": "code",
   "execution_count": null,
   "metadata": {
    "collapsed": false,
    "deletable": true,
    "editable": true
   },
   "outputs": [],
   "source": [
    "# define lattice of monolayer graphene with 1[nm] interatomic distance and t=1/3[eV] hopping\n",
    "#  INFO: other examples are defined in define_lattice.py script\n",
    "def graphene_initial(onsite=(0, 0)):\n",
    "    \"\"\"Return the basic lattice specification for monolayer graphene with nearest neighbor\"\"\"\n",
    "\n",
    "    theta = np.pi / 3\n",
    "    a1 = np.array([1 + np.cos(theta), np.sin(theta)])\n",
    "    a2 = np.array([0, 2 * np.sin(theta)])\n",
    "\n",
    "    # create a lattice with 2 primitive vectors\n",
    "    lat = pb.Lattice(\n",
    "        a1=a1,\n",
    "        a2=a2\n",
    "    )\n",
    "\n",
    "    # Add sublattices\n",
    "    lat.add_sublattices(\n",
    "        # name, position, and onsite potential\n",
    "        ('A', [0, 0], onsite[0]),\n",
    "        ('B', [1, 0], onsite[1])\n",
    "    )\n",
    "\n",
    "    # Add hoppings\n",
    "    lat.add_hoppings(\n",
    "        # inside the main cell, between which atoms, and the value\n",
    "        ([0, 0], 'A', 'B', 1 / 3),\n",
    "        # between neighboring cells, between which atoms, and the value\n",
    "        ([-1, 0], 'A', 'B', 1 / 3),\n",
    "        ([-1, 1], 'A', 'B', 1 / 3)\n",
    "    )\n",
    "\n",
    "    # Add disorder\n",
    "    # Each sublattice can have different disorder. If there are multiple orbitals at one sublattice, one needs to add\n",
    "    # disorder vector of the same size as the number of orbitals. Type of disorder available are Gaussian,\n",
    "    # Deterministic and Uniform. Each of the needs the have mean value, and standard deviation, where standard deviation\n",
    "    # of deterministic disorder should be 0.\n",
    "    disorder = ex.Disorder(lat)\n",
    "    disorder.add_disorder('A', 'Gaussian', 1., 2.)\n",
    "    disorder.add_disorder('B', 'Uniform', 1., 2.)\n",
    "\n",
    "    # if there is disorder it should be returned separately from the lattice\n",
    "    return lat, disorder"
   ]
  },
  {
   "cell_type": "code",
   "execution_count": null,
   "metadata": {
    "collapsed": false,
    "deletable": true,
    "editable": true
   },
   "outputs": [
    {
     "ename": "AttributeError",
     "evalue": "'Lattice' object has no attribute 'nsub'",
     "traceback": [
      "\u001b[1;31m---------------------------------------------------------------------------\u001b[0m",
      "\u001b[1;31mAttributeError\u001b[0m                            Traceback (most recent call last)",
      "\u001b[1;32m<ipython-input-17-d68338a97018>\u001b[0m in \u001b[0;36m<module>\u001b[1;34m()\u001b[0m\n\u001b[0;32m      1\u001b[0m \u001b[1;31m# lattice, disorder = graphene_initial()\u001b[0m\u001b[1;33m\u001b[0m\u001b[1;33m\u001b[0m\u001b[0m\n\u001b[0;32m      2\u001b[0m \u001b[0mlattice\u001b[0m \u001b[1;33m=\u001b[0m \u001b[0mgraphene_initial\u001b[0m\u001b[1;33m(\u001b[0m\u001b[1;33m)\u001b[0m\u001b[1;33m\u001b[0m\u001b[0m\n\u001b[1;32m----> 3\u001b[1;33m \u001b[0mprint\u001b[0m\u001b[1;33m(\u001b[0m\u001b[0mlattice\u001b[0m\u001b[1;33m.\u001b[0m\u001b[0mnsub\u001b[0m\u001b[1;33m)\u001b[0m\u001b[1;33m\u001b[0m\u001b[0m\n\u001b[0m",
      "\u001b[1;31mAttributeError\u001b[0m: 'Lattice' object has no attribute 'nsub'"
     ],
     "output_type": "error"
    }
   ],
   "source": [
    "lattice, disorder = graphene_initial()"
   ]
  },
  {
   "cell_type": "code",
   "execution_count": 8,
   "metadata": {
    "collapsed": true,
    "deletable": true,
    "editable": true
   },
   "outputs": [],
   "source": [
    "# number of decomposition parts in each direction of matrix.\n",
    "\n",
    "nx = ny = 1\n",
    "# number of unit cells in each direction.\n",
    "lx = ly = 1\n",
    "\n",
    "# make config object which caries info about\n",
    "# - the number of decomposition parts [nx, ny],\n",
    "# - lengths of structure [lx, ly]\n",
    "# - boundary conditions, setting True as periodic boundary conditions, and False elsewise,\n",
    "# - info if the exported hopping and onsite data should be complex,\n",
    "# - info of the precision of the exported hopping and onsite data, 0 - float, 1 - double, and 2 - long double.\n",
    "configuration = ex.Configuration(divisions=[nx, ny], length=[lx, ly], boundaries=[True, True],\n",
    "                                 is_complex=False, precision=1)"
   ]
  },
  {
   "cell_type": "code",
   "execution_count": null,
   "metadata": {
    "collapsed": true,
    "deletable": true,
    "editable": true
   },
   "outputs": [],
   "source": [
    "# make calculation object which caries info about\n",
    "# - the name of the function\n",
    "#   DOS - denstity of states == 1,\n",
    "#   CondXX - conductivity in xx direction == 2,\n",
    "#   CondXY - conductivity in xy direction == 3,\n",
    "#   OptCond - optical conductivity == 4\n",
    "#   SpinCond - spin conductivity == 5\n",
    "# - number of moments for the calculation,\n",
    "# - number of different random vector realisations,\n",
    "# - number of disorder realisations.\n",
    "calculation = ex.Calculation(fname=['DOS', 'CondXX'], num_moments=[1024, 24], num_random=[50, 50], num_disorder=[5, 2])"
   ]
  },
  {
   "cell_type": "code",
   "execution_count": null,
   "metadata": {
    "collapsed": true,
    "deletable": true,
    "editable": true
   },
   "outputs": [],
   "source": [
    "# make modification object which caries info about (TODO: Other modifications can be added here)\n",
    "# - magnetic field can be set to True. Default case is False. In exported file it's converted to 1 and 0.\n",
    "modification = ex.Modification(magnetic_field=True)"
   ]
  },
  {
   "cell_type": "code",
   "execution_count": null,
   "metadata": {
    "collapsed": false,
    "deletable": true,
    "editable": true
   },
   "outputs": [],
   "source": [
    "# export the lattice from the lattice object, config and calculation object and the name of the file\n",
    "# the disorder is optional. If there is disorder in the lattice for now it should be given separately\n",
    "ex.export_lattice(lattice, configuration, calculation, modification, 'test_f.h5', disorder=disorder)"
   ]
  },
  {
   "cell_type": "code",
   "execution_count": null,
   "metadata": {
    "collapsed": false,
    "deletable": true,
    "editable": true
   },
   "outputs": [],
   "source": [
    "# plotting the lattice\n",
    "lattice.plot()\n",
    "plt.show()"
   ]
  },
  {
   "cell_type": "code",
   "execution_count": null,
   "metadata": {
    "collapsed": true,
    "deletable": true,
    "editable": true
   },
   "outputs": [],
   "source": [
    ""
   ]
  }
 ],
 "metadata": {
  "kernelspec": {
   "display_name": "Python 3",
   "language": "python",
   "name": "python3"
  },
  "language_info": {
   "codemirror_mode": {
    "name": "ipython",
    "version": 3.0
   },
   "file_extension": ".py",
   "mimetype": "text/x-python",
   "name": "python",
   "nbconvert_exporter": "python",
   "pygments_lexer": "ipython3",
   "version": "3.5.2"
  }
 },
 "nbformat": 4,
 "nbformat_minor": 0
}