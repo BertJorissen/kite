{
 "cells": [
  {
   "cell_type": "markdown",
   "id": "f80fa347-94b6-4ada-bfcc-b906da2e85ae",
   "metadata": {},
   "source": [
    "# Testing the magnetic field in 3D\n",
    "\n",
    "Comparing against a 3DEG in a magnetic field"
   ]
  },
  {
   "cell_type": "code",
   "execution_count": 6,
   "id": "df8f30c7-0aac-416f-8616-582da597b080",
   "metadata": {},
   "outputs": [
    {
     "name": "stdout",
     "output_type": "stream",
     "text": [
      "0.19634954084936207 0.009638285547938826\n"
     ]
    },
    {
     "data": {
      "image/png": "[encoded data removed]",
      "text/plain": [
       "<Figure size 720x360 with 1 Axes>"
      ]
     },
     "metadata": {
      "needs_background": "light"
     },
     "output_type": "display_data"
    }
   ],
   "source": [
    "import matplotlib.pyplot as plt\n",
    "import numpy as np\n",
    "\n",
    "h = 6.62607015e-34 # J/s\n",
    "e = 1.60217662e-19 # Coulomb\n",
    "a = 1e-9  # meters (typical length scale)\n",
    "\n",
    "N = 64\n",
    "Nz = N\n",
    "mult = 1\n",
    "\n",
    "t = 1\n",
    "T = h/e/a/a \n",
    "print(\"Tesla\", T/N)\n",
    "\n",
    "# spacings\n",
    "de1 = 4*np.pi/N*mult\n",
    "de2 = (2*np.pi/Nz)**2\n",
    "print(de1, de2)\n",
    "\n",
    "# band edge in 3D and 2D\n",
    "E0 = -6*t\n",
    "# E0 = -4*t\n",
    "\n",
    "# calculate the Landau levels\n",
    "NI = 10\n",
    "NJ = 10\n",
    "landaus = []\n",
    "colors = []\n",
    "c = ['red', 'green', 'blue', 'yellow', 'cyan','orange']*5\n",
    "for i in range(NI):\n",
    "    for j in range(NJ):\n",
    "        E = E0 + de1*(0.5 + i) + j*j*de2\n",
    "        landaus.append(E) \n",
    "        colors.append(c[j])\n",
    "# landaus.sort()\n",
    "# landaus = landaus[:15]\n",
    "# print(landaus)\n",
    "\n",
    "# fetch DoS calculated with KITE\n",
    "basedir = \"/mnt/data/projects_sync/codes/kitedevelop/tests/test_mag\"\n",
    "file = basedir + \"/dos.dat\"\n",
    "dos = np.loadtxt(file)\n",
    "\n",
    "\n",
    "# check if the Landau levels are in the predicted spot\n",
    "fig, axs = plt.subplots(1,1, figsize=(10,5))\n",
    "axs.plot(dos[:,0], dos[:,1])\n",
    "axs.set_xlim([-6,-5.6])\n",
    "for i,c in zip( landaus, colors):\n",
    "    axs.axvline(i,c=c)\n",
    "plt.show()"
   ]
  },
  {
   "cell_type": "code",
   "execution_count": null,
   "id": "6fb4ea52-b667-4e08-9793-cc6f8d40780c",
   "metadata": {},
   "outputs": [],
   "source": []
  },
  {
   "cell_type": "code",
   "execution_count": null,
   "id": "14408b73-66ed-4997-88fd-7bb437cb6c18",
   "metadata": {},
   "outputs": [],
   "source": []
  },
  {
   "cell_type": "code",
   "execution_count": null,
   "id": "bf0f2c16-475a-40be-ac82-2e87d146ea01",
   "metadata": {},
   "outputs": [],
   "source": []
  }
 ],
 "metadata": {
  "kernelspec": {
   "display_name": "Python 3 (ipykernel)",
   "language": "python",
   "name": "python3"
  },
  "language_info": {
   "codemirror_mode": {
    "name": "ipython",
    "version": 3
   },
   "file_extension": ".py",
   "mimetype": "text/x-python",
   "name": "python",
   "nbconvert_exporter": "python",
   "pygments_lexer": "ipython3",
   "version": "3.10.2"
  }
 },
 "nbformat": 4,
 "nbformat_minor": 5
}
