{
 "cells": [
  {
   "cell_type": "markdown",
   "metadata": {
    "deletable": true,
    "editable": true
   },
   "source": [
    "# Building and exporting the lattice"
   ]
  },
  {
   "cell_type": "markdown",
   "metadata": {
    "deletable": true,
    "editable": true
   },
   "source": [
    "The package used for building the lattice, and the plotting, pybinding, can be found on the website:\n",
    "http://docs.pybinding.site/en/stable/ \n",
    "with the installation guide and many building examples provided. Until the new version 0.9 is released, you should install the package directly from the git repository via:\n",
    "pip3 install git+https://github.com/dean0x7d/pybinding.git\n",
    "instead of using: \n",
    "pip3 install pybinding"
   ]
  },
  {
   "cell_type": "code",
   "execution_count": null,
   "metadata": {
    "collapsed": true,
    "deletable": true,
    "editable": true
   },
   "outputs": [],
   "source": [
    "# Include files"
   ]
  },
  {
   "cell_type": "code",
   "execution_count": 1,
   "metadata": {
    "collapsed": true,
    "deletable": true,
    "editable": true
   },
   "outputs": [],
   "source": [
    "import matplotlib.pyplot as plt\n",
    "import define_lattice as dl\n",
    "import export_lattice as ex"
   ]
  },
  {
   "cell_type": "code",
   "execution_count": 2,
   "metadata": {
    "collapsed": true,
    "deletable": true,
    "editable": true
   },
   "outputs": [],
   "source": [
    "# define lattice of monolayer graphene by setting the number of nearest neighbors and onsite energies at atoms.\n",
    "# - onsite energies can be a number, array, or matrix, where for the last case off-diagonal terms represent orbital\n",
    "# hoppings at the same lattice site.\n",
    "# - label for the onsite potential are chosen from a set of\n",
    "#   rectangular and\n",
    "#   gaussian disorder distribution.\n",
    "# if not presented the field won't appear in exported file.\n",
    "# - magnetic field can be set to True. Default case is False. In exported file it's converted to 1 and 0.\n",
    "lattice = dl.monolayer_graphene(nearest_neighbors=3, onsite=([[1, 1], [1, 2]], [[1, 1], [1, 2]]),\n",
    "                                onsite_labels='rectangular', magnetic_field=True)"
   ]
  },
  {
   "cell_type": "code",
   "execution_count": 3,
   "metadata": {
    "collapsed": false,
    "deletable": true,
    "editable": true
   },
   "outputs": [
    {
     "data": {
      "image/png": "[encoded data removed]",
      "text/plain": [
       "<matplotlib.figure.Figure at 0x7f80e48277b8>"
      ]
     },
     "metadata": {},
     "output_type": "display_data"
    }
   ],
   "source": [
    "# plotting the lattice\n",
    "lattice.plot()\n",
    "plt.show()"
   ]
  },
  {
   "cell_type": "code",
   "execution_count": 4,
   "metadata": {
    "collapsed": true,
    "deletable": true,
    "editable": true
   },
   "outputs": [],
   "source": [
    "# number of decomposition parts in each direction of matrix.\n",
    "nx = ny = 1\n",
    "# number of unit cells in each direction.\n",
    "lx = ly = 1\n",
    "# make config object which caries info about\n",
    "# - the number of decomposition parts [nx, ny],\n",
    "# - lengths of structure [lx, ly]\n",
    "# - boundary conditions, setting True as periodic boundary conditions, and False elsewise,\n",
    "# - info if the exported hopping and onsite data should be complex,\n",
    "# - info of the precision of the exported hopping and onsite data, 0 - float, 1 - double, and 2 - long double.\n",
    "config = ex.Config(divisions=[nx, ny], length=[lx, ly], boundaries=[True, True], is_complex=False, precision=1)"
   ]
  },
  {
   "cell_type": "code",
   "execution_count": 5,
   "metadata": {
    "collapsed": true,
    "deletable": true,
    "editable": true
   },
   "outputs": [],
   "source": [
    "# make calculation object which caries info about\n",
    "# - the name of the function\n",
    "#   DOS - denstity of states,\n",
    "#   CondXX - conductivity in xx direction\n",
    "#   CondXY - conductivity in xy direction\n",
    "#   OptCond - optical conductivity\n",
    "#   SpinCond - spin conductivity\n",
    "# - number of moments for the calculation,\n",
    "# - number of different random vector realisations,\n",
    "# - number of disorder realisations.\n",
    "calculation = ex.Calculation(fname='DOS', num_moments=1024, num_random=50, num_disorder=1)"
   ]
  },
  {
   "cell_type": "code",
   "execution_count": 6,
   "metadata": {
    "collapsed": true,
    "deletable": true,
    "editable": true
   },
   "outputs": [],
   "source": [
    "# export the lattice from the lattice object, config and calculation object and the name of the file\n",
    "ex.export_lattice(lattice, config, calculation, \"test.h5\")"
   ]
  }
 ],
 "metadata": {
  "kernelspec": {
   "display_name": "Python 3",
   "language": "python",
   "name": "python3"
  },
  "language_info": {
   "codemirror_mode": {
    "name": "ipython",
    "version": 3
   },
   "file_extension": ".py",
   "mimetype": "text/x-python",
   "name": "python",
   "nbconvert_exporter": "python",
   "pygments_lexer": "ipython3",
   "version": "3.5.2"
  }
 },
 "nbformat": 4,
 "nbformat_minor": 2
}
