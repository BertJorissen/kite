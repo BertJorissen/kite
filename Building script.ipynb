{
 "cells": [
  {
   "cell_type": "markdown",
   "metadata": {},
   "source": [
    "# Building and exporting the lattice"
   ]
  },
  {
   "cell_type": "markdown",
   "metadata": {},
   "source": [
    "The package used for building the lattice, and it's plotting can be found on the website:\n",
    "http://docs.pybinding.site/en/stable/, with the installation guide and many building examples\n",
    "provided."
   ]
  },
  {
   "cell_type": "code",
   "execution_count": null,
   "metadata": {
    "collapsed": true,
    "deletable": true,
    "editable": true
   },
   "outputs": [],
   "source": [
    "# Include directories"
   ]
  },
  {
   "cell_type": "code",
   "execution_count": 8,
   "metadata": {
    "collapsed": true
   },
   "outputs": [],
   "source": [
    "import pybinding as pb\n",
    "import numpy as np\n",
    "import matplotlib.pyplot as plt\n",
    "import h5py as hp\n",
    "\n",
    "from math import sqrt"
   ]
  },
  {
   "cell_type": "code",
   "execution_count": null,
   "metadata": {
    "collapsed": true
   },
   "outputs": [],
   "source": [
    "# a = 0.24595  # [nm] unit cell length\n",
    "# a_cc = 0.142  # [nm] carbon-carbon distance\n",
    "# t = -2.8  # [eV] nearest neighbour hopping"
   ]
  },
  {
   "cell_type": "code",
   "execution_count": 10,
   "metadata": {
    "collapsed": true
   },
   "outputs": [],
   "source": [
    "from pybinding.repository.graphene import a_cc, a, t, t_nn\n",
    "\n",
    "pb.pltutils.use_style()"
   ]
  },
  {
   "cell_type": "code",
   "execution_count": 11,
   "metadata": {
    "collapsed": true
   },
   "outputs": [],
   "source": [
    "# Define function for the lattice, in this case Monolayer graphene"
   ]
  },
  {
   "cell_type": "code",
   "execution_count": 12,
   "metadata": {
    "collapsed": true
   },
   "outputs": [],
   "source": [
    "def monolayer_graphene(nearest_neighbors=1, onsite=(0, 0), **kwargs):\n",
    "    \"\"\"Return the lattice specification for monolayer graphene\"\"\"\n",
    "\n",
    "    # create a lattice with 2 primitive vectors\n",
    "    lat = pb.Lattice(\n",
    "        a1=[a, 0],\n",
    "        a2=[a / 2, a / 2 * sqrt(3)]\n",
    "    )\n",
    "\n",
    "    # num of orbitals at each site is equal to the number of rows of the onsite object\n",
    "    # the number of orbitals can be different, and the only limitation is that the hopping element between the two sites\n",
    "    #  needs to be of the size num_orbitals_a x num_orbitals_b.\n",
    "    num_orbitals_a = np.asarray(onsite[0]).shape[0]\n",
    "    num_orbitals_b = np.asarray(onsite[0]).shape[0]\n",
    "\n",
    "    # register name for hoppings\n",
    "    lat.register_hopping_energies({\n",
    "        't': kwargs.get('t', t * np.eye(num_orbitals_a)),\n",
    "        't_nn': kwargs.get('t_nn', t_nn * np.eye(num_orbitals_b)),\n",
    "        't_nnn': kwargs.get('t_nnn', 0.05 * np.eye(num_orbitals_a)),\n",
    "    })\n",
    "\n",
    "    coord_A = [0, -a_cc / 2]\n",
    "    coord_B = [0, a_cc / 2]\n",
    "\n",
    "    lat.add_sublattices(\n",
    "        # name, position, and onsite potential\n",
    "        ('A', coord_A, onsite[0]),\n",
    "        ('B', coord_B, onsite[1])\n",
    "    )\n",
    "\n",
    "    lat.add_hoppings(\n",
    "        # inside the main cell\n",
    "        ([0, 0], 'A', 'B', 't'),\n",
    "        # between neighboring cells\n",
    "        ([1, -1], 'A', 'B', 't'),\n",
    "        ([0, -1], 'A', 'B', 't')\n",
    "    )\n",
    "\n",
    "    if nearest_neighbors >= 2:\n",
    "        lat.add_hoppings(\n",
    "            ([0, -1], 'A', 'A', 't_nn'),\n",
    "            ([0, -1], 'B', 'B', 't_nn'),\n",
    "            ([1, -1], 'A', 'A', 't_nn'),\n",
    "            ([1, -1], 'B', 'B', 't_nn'),\n",
    "            ([1, 0], 'A', 'A', 't_nn'),\n",
    "            ([1, 0], 'B', 'B', 't_nn'),\n",
    "        )\n",
    "\n",
    "    if nearest_neighbors >= 3:\n",
    "        lat.add_hoppings(\n",
    "            [(1, -2), 'A', 'B', 't_nnn'],\n",
    "            [(1, 0), 'A', 'B', 't_nnn'],\n",
    "            [(-1, 0), 'A', 'B', 't_nnn'],\n",
    "        )\n",
    "\n",
    "    if nearest_neighbors >= 4:\n",
    "        raise RuntimeError(\"No more\")\n",
    "\n",
    "    lat.min_neighbors = 2\n",
    "    return lat"
   ]
  },
  {
   "cell_type": "code",
   "execution_count": 13,
   "metadata": {
    "collapsed": true
   },
   "outputs": [],
   "source": [
    "# define Config class which carries info about:\n",
    "# - the number of decomposition parts [nx, ny],\n",
    "# - lenghts of structure [lx, ly]\n",
    "# - boundary conditions, setting True as periodic boundary conditions, and False elsewise,\n",
    "# - info if the exported hopping and onsite data should be complex,\n",
    "# - info of the precision of the exported hopping and onsite data, 0 - float, 1 - double, and 2 - long double. "
   ]
  },
  {
   "cell_type": "code",
   "execution_count": 14,
   "metadata": {
    "collapsed": true
   },
   "outputs": [],
   "source": [
    "class Config:\n",
    "    def __init__(self, divisions=(1, 1), length=None, boundaries=(False, False), is_complex=False, precision=1):\n",
    "        self._is_complex = int(is_complex)\n",
    "        self._precision = precision\n",
    "        self._divisions = divisions\n",
    "        self._boundaries = np.asarray(boundaries).astype(int)\n",
    "        self._length = length\n",
    "        self.set_type()\n",
    "\n",
    "    def set_type(self, ):\n",
    "        if self._is_complex == 0:\n",
    "            if self._precision == 0:\n",
    "                self._htype = np.float32\n",
    "            elif self._precision == 1:\n",
    "                self._htype = np.float64\n",
    "            elif self._precision == 2:\n",
    "                self._htype = np.float128\n",
    "            else:\n",
    "                raise SystemExit(\"Precision should be 0, 1 or 2\")\n",
    "        else:\n",
    "            if self._precision == 0:\n",
    "                self._htype = np.complex64\n",
    "            elif self._precision == 1:\n",
    "                self._htype = np.complex128\n",
    "            elif self._precision == 2:\n",
    "                self._htype = np.complex256\n",
    "\n",
    "    @property\n",
    "    def comp(self):  # -> is_complex:\n",
    "        \"\"\"Returns 0 if hamiltonian is real and 1 elsewise.\"\"\"\n",
    "        return self._is_complex\n",
    "\n",
    "    @property\n",
    "    def prec(self):  # -> precision:\n",
    "        \"\"\"Returns 0, 1, 2 if precision if float, double, and long double respectively.\"\"\"\n",
    "        return self._precision\n",
    "\n",
    "    @property\n",
    "    def div(self):  # -> divisions:\n",
    "        \"\"\"Returns the number of decomposed elements of matrix in x and y direction. Product of the two gives the total\n",
    "        number of threads spawn.\"\"\"\n",
    "        return self._divisions\n",
    "\n",
    "    @property\n",
    "    def bound(self):  # -> boundaries:\n",
    "        \"\"\"Returns the boundary conditions in each direction, 0 - no boundary condtions, 1 - peridoc bc. \"\"\"\n",
    "        return self._boundaries\n",
    "\n",
    "    @property\n",
    "    def leng(self):  # -> length:\n",
    "        \"\"\"Return the number of unit cell repetitions in each direction. \"\"\"\n",
    "        return self._length\n",
    "\n",
    "    @property\n",
    "    def type(self):  # -> type:\n",
    "        \"\"\"Return the type of the Hamiltonian complex or real, and float, double or long double. \"\"\"\n",
    "        return self._htype"
   ]
  },
  {
   "cell_type": "code",
   "execution_count": 15,
   "metadata": {
    "collapsed": true
   },
   "outputs": [],
   "source": [
    "# define function that exports the lattice and configuration data"
   ]
  },
  {
   "cell_type": "code",
   "execution_count": 16,
   "metadata": {
    "collapsed": true
   },
   "outputs": [],
   "source": [
    "def export_lattice(lattice, config, filename):\n",
    "    # get the lattice vectors and set the size of space (1D, 2D or 3D) as the total number of vectors.\n",
    "    vectors = lattice.vectors\n",
    "    space_size = len(vectors)\n",
    "\n",
    "    # get all the onsite values (as numbers or matrices) to the onsite array.\n",
    "    onsite = []\n",
    "    # get all positions to the position array.\n",
    "    position = []\n",
    "    # get number of orbitals at each atom.\n",
    "    num_orbitals = []\n",
    "\n",
    "    for name, sub in lattice.sublattices.items():\n",
    "        num_orbitals.append(np.asarray(sub.energy).shape[0])\n",
    "        onsite.append(sub.energy)\n",
    "        position.append(sub.position[0:space_size])\n",
    "    onsite = np.array(onsite)\n",
    "    position = np.array(position)\n",
    "\n",
    "    hoppings_id = []\n",
    "    hoppings = []\n",
    "    # hopping_id matrix is made of the following data:\n",
    "    # - each row is representing one hopping element,\n",
    "    # - first space_size elements (1, 2, or 3) represent the relative lattice index with respect\n",
    "    #   to the [0, 0, 0] lattice,\n",
    "    # - next 2 numbers show the relative index of the atom in the lattice [0, 0, 0] from which the hopping comes\n",
    "    #   and the relative index of the atom in the lattice given at the beginning of the row where the hopping goes.\n",
    "    # - final two numbers are the number of rows and cols of hopping matrix which represent the number of orbitals of\n",
    "    #   atom \"from\" and atom \"to\" between which the hopping happens.\n",
    "\n",
    "    # hopping matrix with each row represents one hopping element (in case of the matrix the hopping is flatened\n",
    "    # to fit the row) with properties given in the same row of matrix hopping_id.\n",
    "    for name, hop in lattice.hoppings.items():\n",
    "        hopping_energy = hop.energy\n",
    "        for term in hop.terms:\n",
    "            hoppings_id.append(np.hstack((term.relative_index[0:space_size].flatten(),\n",
    "                                          getattr(term, \"from\"), term.to, hopping_energy.shape)))\n",
    "            hoppings.append(hopping_energy.flatten())\n",
    "\n",
    "    hoppings = np.array(hoppings)\n",
    "    hoppings_id = np.array(hoppings_id)\n",
    "\n",
    "    f = hp.File(filename, \"w\")\n",
    "    # hamiltonian is complex 1 or real 0\n",
    "    complx = int(config.comp)\n",
    "    f.create_dataset(\"IsComplex\", data=complx)\n",
    "    # precision of hamiltonian float, double, long double\n",
    "    f.create_dataset(\"Precision\", data=config.prec)\n",
    "    # number of repetitions in each of the directions\n",
    "    f.create_dataset(\"Length\", data=config.leng, dtype=\"u4\")\n",
    "    # periodic boundary conditions, 0 - no, 1 - yes.\n",
    "    bound = config.bound\n",
    "    f.create_dataset(\"Boundaries\", data=bound, dtype=\"u4\")\n",
    "    # number of divisions of the in each direction of hamiltonian. nx x ny = num_threads\n",
    "    f.create_dataset(\"Divisions\", data=config.div, dtype=\"u4\")\n",
    "    # space dimension of the lattice 1D, 2D, 3D\n",
    "    f.create_dataset(\"Dim\", data=space_size, dtype=\"u4\")\n",
    "    # lattice vectors. Size is same as DIM\n",
    "    f.create_dataset(\"LattVector\", data=vectors, dtype=np.float64)\n",
    "    # position for each atom\n",
    "    f.create_dataset(\"AtomPositions\", data=position, dtype=np.float64)\n",
    "    # total number of atom\n",
    "    f.create_dataset(\"NumAtoms\", data=position.shape[0], dtype=\"u4\")\n",
    "    # Hamiltonian group\n",
    "    grp = f.create_group(\"Hamiltonian\")\n",
    "    # Hamiltonian group\n",
    "    grp.create_dataset(\"HoppingsID\", data=hoppings_id)\n",
    "    # number of orbitals at each atom\n",
    "    grp.create_dataset(\"NumOrbitals\", data=num_orbitals)\n",
    "    if (complx):\n",
    "        # hoppings\n",
    "        grp.create_dataset(\"Hoppings\", data=hoppings.astype(config.type))\n",
    "        # onsite\n",
    "        grp.create_dataset(\"Onsite\", data=onsite.astype(config.type))\n",
    "    else:\n",
    "        # hoppings\n",
    "        grp.create_dataset(\"Hoppings\", data=hoppings.real.astype(config.type))\n",
    "        # onsite potential at each atom\n",
    "        grp.create_dataset(\"Onsite\", data=onsite.real.astype(config.type))\n",
    "\n",
    "    f.close()"
   ]
  },
  {
   "cell_type": "code",
   "execution_count": 17,
   "metadata": {
    "collapsed": false,
    "deletable": true,
    "editable": true
   },
   "outputs": [
    {
     "data": {
      "image/png": "[encoded data removed]",
      "text/plain": [
       "<matplotlib.figure.Figure at 0x7f64a85bca58>"
      ]
     },
     "metadata": {},
     "output_type": "display_data"
    }
   ],
   "source": [
    "# define lattice of monolayer graphene by setting the number of nearest neighbors and onsite energies at atoms.\n",
    "# onsite energies can be a number, array, or matrix, where for the last case off-diagonal terms represent orbital\n",
    "# hoppings at the same lattice site.\n",
    "lattice = monolayer_graphene(nearest_neighbors=3, onsite=([[1, 1], [1, 2]], [[1, 1], [1, 2]]))\n",
    "\n",
    "# plotting the lattice\n",
    "lattice.plot()\n",
    "plt.show()\n",
    "\n",
    "# number of decomposition parts in each direction of matrix.\n",
    "nx = ny = 1\n",
    "# number of unit cells in each direction.\n",
    "lx = ly = 1\n",
    "# make config object which caries info about\n",
    "# - the number of decomposition parts [nx, ny],\n",
    "# - lenghts of structure [lx, ly]\n",
    "# - boundary conditions, setting True as periodic boundary conditions, and False elsewise,\n",
    "# - info if the exported hopping and onsite data should be complex,\n",
    "# - info of the precision of the exported hopping and onsite data, 0 - float, 1 - double, and 2 - long double.\n",
    "config = Config(divisions=[nx, ny], length=[lx, ly], boundaries=[True, True], is_complex=False, precision=1)\n",
    "\n",
    "# export the latice from the lattice object, config file, and the name of the file\n",
    "export_lattice(lattice, config, \"test.h5\")"
   ]
  }
 ],
 "metadata": {
  "kernelspec": {
   "display_name": "Python 3",
   "language": "python",
   "name": "python3"
  },
  "language_info": {
   "codemirror_mode": {
    "name": "ipython",
    "version": 3
   },
   "file_extension": ".py",
   "mimetype": "text/x-python",
   "name": "python",
   "nbconvert_exporter": "python",
   "pygments_lexer": "ipython3",
   "version": "3.5.2"
  }
 },
 "nbformat": 4,
 "nbformat_minor": 2
}
