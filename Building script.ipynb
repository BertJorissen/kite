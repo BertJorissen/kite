{
 "cells": [
  {
   "cell_type": "markdown",
   "metadata": {
    "deletable": true,
    "editable": true
   },
   "source": [
    "# Building and exporting the lattice"
   ]
  },
  {
   "cell_type": "markdown",
   "metadata": {
    "deletable": true,
    "editable": true
   },
   "source": [
    "The package used for building the lattice, and the plotting, pybinding, can be found on the website:\n",
    "http://docs.pybinding.site/en/stable/ \n",
    "with the installation guide and many building examples provided."
   ]
  },
  {
   "cell_type": "code",
   "execution_count": null,
   "metadata": {
    "collapsed": true,
    "deletable": true,
    "editable": true
   },
   "outputs": [],
   "source": [
    "# Include files\n",
    "import matplotlib.pyplot as plt\n",
    "import define_lattice as dl\n",
    "import export_lattice as ex"
   ]
  },
  {
   "cell_type": "code",
   "execution_count": null,
   "metadata": {
    "collapsed": false,
    "deletable": true,
    "editable": true
   },
   "outputs": [],
   "source": [
    "# define lattice of monolayer graphene with 1[nm] interatomic distance and t=1/3[eV] hopping,\n",
    "# or graphene_basic with regular parameters.\n",
    "# INFO: all examples are defined in define_lattice.py script\n",
    "# graphene_monolayer example accepts onstite energie at different sublattices, which can be a matrix, defining more\n",
    "# orbitals per each sublattice(atom)\n",
    "\n",
    "# lattice = dl.square_lattice()\n",
    "lattice = dl.graphene_initial()\n",
    "# lattice = dl.graphene_basic()"
   ]
  },
  {
   "cell_type": "code",
   "execution_count": null,
   "metadata": {
    "collapsed": true,
    "deletable": true,
    "editable": true
   },
   "outputs": [],
   "source": [
    "# number of decomposition parts in each direction of matrix.\n",
    "nx = ny = 1\n",
    "# number of unit cells in each direction.\n",
    "lx = ly = 1\n",
    "\n",
    "# make config object which caries info about\n",
    "# - the number of decomposition parts [nx, ny],\n",
    "# - lengths of structure [lx, ly]\n",
    "# - boundary conditions, setting True as periodic boundary conditions, and False elsewise,\n",
    "# - info if the exported hopping and onsite data should be complex,\n",
    "# - info of the precision of the exported hopping and onsite data, 0 - float, 1 - double, and 2 - long double.\n",
    "config = ex.Config(divisions=[nx, ny], length=[lx, ly], boundaries=[True, True], is_complex=False, precision=1)"
   ]
  },
  {
   "cell_type": "code",
   "execution_count": null,
   "metadata": {
    "collapsed": true,
    "deletable": true,
    "editable": true
   },
   "outputs": [],
   "source": [
    "# make calculation object which caries info about\n",
    "# - the name of the function\n",
    "#   DOS - denstity of states == 1,\n",
    "#   CondXX - conductivity in xx direction == 2,\n",
    "#   CondXY - conductivity in xy direction == 3,\n",
    "#   OptCond - optical conductivity == 4\n",
    "#   SpinCond - spin conductivity == 5\n",
    "# - number of moments for the calculation  == 6,\n",
    "# - number of different random vector realisations  == 7,\n",
    "# - number of disorder realisations == 8.\n",
    "calculation = ex.Calculation(fname='DOS', num_moments=1024, num_random=50, num_disorder=1)"
   ]
  },
  {
   "cell_type": "code",
   "execution_count": null,
   "metadata": {
    "collapsed": true,
    "deletable": true,
    "editable": true
   },
   "outputs": [],
   "source": [
    "# make modification object which caries info about\n",
    "# - disorder realisation, for now you can chose between 'rectangular' and 'gaussian' distribution and choose its mean\n",
    "# value and width\n",
    "# - magnetic field can be set to True. Default case is False. In exported file it's converted to 1 and 0.\n",
    "modification = ex.Modifications(disorder={'name': 'rectangular', 'width': 2, 'mean_value': 1}, magnetic_field=True)"
   ]
  },
  {
   "cell_type": "code",
   "execution_count": null,
   "metadata": {
    "collapsed": false,
    "deletable": true,
    "editable": true
   },
   "outputs": [],
   "source": [
    "# export the lattice from the lattice object, config and calculation object and the name of the file\n",
    "# INFO: classes Calculation, Modification and function export lattice are defined in export_lattice.py script\n",
    "ex.export_lattice(lattice, config, calculation, modification, 'test_note.h5')"
   ]
  },
  {
   "cell_type": "code",
   "execution_count": null,
   "metadata": {
    "collapsed": false,
    "deletable": true,
    "editable": true
   },
   "outputs": [],
   "source": [
    "# plotting the lattice\n",
    "lattice.plot()\n",
    "plt.show()"
   ]
  },
  {
   "cell_type": "code",
   "execution_count": null,
   "metadata": {
    "collapsed": true
   },
   "outputs": [],
   "source": []
  }
 ],
 "metadata": {
  "kernelspec": {
   "display_name": "Python 3",
   "language": "python",
   "name": "python3"
  },
  "language_info": {
   "codemirror_mode": {
    "name": "ipython",
    "version": 3
   },
   "file_extension": ".py",
   "mimetype": "text/x-python",
   "name": "python",
   "nbconvert_exporter": "python",
   "pygments_lexer": "ipython3",
   "version": "3.5.2"
  }
 },
 "nbformat": 4,
 "nbformat_minor": 2
}
